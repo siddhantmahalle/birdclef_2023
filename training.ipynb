{
 "cells": [
  {
   "cell_type": "markdown",
   "source": [
    "# BirdCLEF 2023 data preprocessing"
   ],
   "metadata": {
    "collapsed": false
   }
  },
  {
   "cell_type": "markdown",
   "source": [
    "## Importing libraries"
   ],
   "metadata": {
    "collapsed": false
   }
  },
  {
   "cell_type": "code",
   "execution_count": 1,
   "outputs": [],
   "source": [
    "import gc\n",
    "import os\n",
    "import time\n",
    "import copy\n",
    "import math\n",
    "from collections import defaultdict\n",
    "\n",
    "import numpy as np\n",
    "import pandas as pd\n",
    "\n",
    "from sklearn.model_selection import StratifiedKFold\n",
    "from sklearn.preprocessing import LabelEncoder\n",
    "from sklearn.metrics import f1_score\n",
    "from torch import optim\n",
    "\n",
    "from tqdm import tqdm\n",
    "import timm\n",
    "import torch\n",
    "import torch.nn as nn\n",
    "import torchaudio\n",
    "from torch.utils.data import Dataset, DataLoader\n",
    "from torchaudio.transforms import Resample\n",
    "from torchvision import transforms, utils"
   ],
   "metadata": {
    "collapsed": false,
    "ExecuteTime": {
     "end_time": "2023-05-31T18:24:28.454018452Z",
     "start_time": "2023-05-31T18:24:27.216547162Z"
    }
   }
  },
  {
   "cell_type": "markdown",
   "source": [
    "## Config"
   ],
   "metadata": {
    "collapsed": false
   }
  },
  {
   "cell_type": "code",
   "execution_count": 2,
   "outputs": [],
   "source": [
    "CONFIG = {\n",
    "    \"DATA_DIR\": \"./birdclef-2023/\",\n",
    "    \"TRAIN_DIR\": os.path.join(\"./birdclef-2023/train_audio\"),\n",
    "    \"TEST_DIR\": os.path.join(\"./birdclef-2023/test_soundscapes\"),\n",
    "    \"SAMPLE_RATE\": 32_000,\n",
    "    \"NUM_CLASSES\": 264,\n",
    "    \"N_FOLDS\": 5,\n",
    "    \"DURATION\": 5,\n",
    "    \"MODEL_NAME\": \"tf_efficientnet_b4_ns\",\n",
    "    \"EMBEDDING_SIZE\": 768,\n",
    "    \"DEVICE\": torch.device(\"cuda\" if torch.cuda.is_available() else \"cpu\"),\n",
    "    \"TRAIN_BATCH_SIZE\": 16,\n",
    "    \"VALID_BATCH_SIZE\": 16,\n",
    "    \"LEARNING_RATE\": 1e-3,\n",
    "    \"WEIGHT_DECAY\": 1e-6,\n",
    "    \"NUM_EPOCHS\": 10,\n",
    "    \"N_MELS\": 224,\n",
    "    \"N_FFT\": 1024,\n",
    "    \"HOP_LENGTH\": 512,\n",
    "}"
   ],
   "metadata": {
    "collapsed": false,
    "ExecuteTime": {
     "end_time": "2023-05-31T18:24:28.469949025Z",
     "start_time": "2023-05-31T18:24:28.468871332Z"
    }
   }
  },
  {
   "cell_type": "markdown",
   "source": [
    "## Loading data"
   ],
   "metadata": {
    "collapsed": false
   }
  },
  {
   "cell_type": "code",
   "execution_count": 3,
   "outputs": [],
   "source": [
    "train_metadata = pd.read_csv(os.path.join(CONFIG[\"DATA_DIR\"], \"train_metadata.csv\"))"
   ],
   "metadata": {
    "collapsed": false,
    "ExecuteTime": {
     "end_time": "2023-05-31T18:24:28.556966986Z",
     "start_time": "2023-05-31T18:24:28.471060641Z"
    }
   }
  },
  {
   "cell_type": "code",
   "execution_count": 4,
   "outputs": [
    {
     "data": {
      "text/plain": "  primary_label secondary_labels              type  latitude  longitude  \\\n0       abethr1               []          ['song']    4.3906    38.2788   \n1       abethr1               []          ['call']   -2.9524    38.2921   \n2       abethr1               []          ['song']   -2.9524    38.2921   \n3       abethr1               []          ['song']   -2.9524    38.2921   \n4       abethr1               []  ['call', 'song']   -2.9524    38.2921   \n\n      scientific_name               common_name         author  \\\n0  Turdus tephronotus  African Bare-eyed Thrush  Rolf A. de By   \n1  Turdus tephronotus  African Bare-eyed Thrush  James Bradley   \n2  Turdus tephronotus  African Bare-eyed Thrush  James Bradley   \n3  Turdus tephronotus  African Bare-eyed Thrush  James Bradley   \n4  Turdus tephronotus  African Bare-eyed Thrush  James Bradley   \n\n                                             license  rating  \\\n0  Creative Commons Attribution-NonCommercial-Sha...     4.0   \n1  Creative Commons Attribution-NonCommercial-Sha...     3.5   \n2  Creative Commons Attribution-NonCommercial-Sha...     3.5   \n3  Creative Commons Attribution-NonCommercial-Sha...     5.0   \n4  Creative Commons Attribution-NonCommercial-Sha...     4.5   \n\n                                 url              filename  \n0  https://www.xeno-canto.org/128013  abethr1/XC128013.ogg  \n1  https://www.xeno-canto.org/363501  abethr1/XC363501.ogg  \n2  https://www.xeno-canto.org/363502  abethr1/XC363502.ogg  \n3  https://www.xeno-canto.org/363503  abethr1/XC363503.ogg  \n4  https://www.xeno-canto.org/363504  abethr1/XC363504.ogg  ",
      "text/html": "<div>\n<style scoped>\n    .dataframe tbody tr th:only-of-type {\n        vertical-align: middle;\n    }\n\n    .dataframe tbody tr th {\n        vertical-align: top;\n    }\n\n    .dataframe thead th {\n        text-align: right;\n    }\n</style>\n<table border=\"1\" class=\"dataframe\">\n  <thead>\n    <tr style=\"text-align: right;\">\n      <th></th>\n      <th>primary_label</th>\n      <th>secondary_labels</th>\n      <th>type</th>\n      <th>latitude</th>\n      <th>longitude</th>\n      <th>scientific_name</th>\n      <th>common_name</th>\n      <th>author</th>\n      <th>license</th>\n      <th>rating</th>\n      <th>url</th>\n      <th>filename</th>\n    </tr>\n  </thead>\n  <tbody>\n    <tr>\n      <th>0</th>\n      <td>abethr1</td>\n      <td>[]</td>\n      <td>['song']</td>\n      <td>4.3906</td>\n      <td>38.2788</td>\n      <td>Turdus tephronotus</td>\n      <td>African Bare-eyed Thrush</td>\n      <td>Rolf A. de By</td>\n      <td>Creative Commons Attribution-NonCommercial-Sha...</td>\n      <td>4.0</td>\n      <td>https://www.xeno-canto.org/128013</td>\n      <td>abethr1/XC128013.ogg</td>\n    </tr>\n    <tr>\n      <th>1</th>\n      <td>abethr1</td>\n      <td>[]</td>\n      <td>['call']</td>\n      <td>-2.9524</td>\n      <td>38.2921</td>\n      <td>Turdus tephronotus</td>\n      <td>African Bare-eyed Thrush</td>\n      <td>James Bradley</td>\n      <td>Creative Commons Attribution-NonCommercial-Sha...</td>\n      <td>3.5</td>\n      <td>https://www.xeno-canto.org/363501</td>\n      <td>abethr1/XC363501.ogg</td>\n    </tr>\n    <tr>\n      <th>2</th>\n      <td>abethr1</td>\n      <td>[]</td>\n      <td>['song']</td>\n      <td>-2.9524</td>\n      <td>38.2921</td>\n      <td>Turdus tephronotus</td>\n      <td>African Bare-eyed Thrush</td>\n      <td>James Bradley</td>\n      <td>Creative Commons Attribution-NonCommercial-Sha...</td>\n      <td>3.5</td>\n      <td>https://www.xeno-canto.org/363502</td>\n      <td>abethr1/XC363502.ogg</td>\n    </tr>\n    <tr>\n      <th>3</th>\n      <td>abethr1</td>\n      <td>[]</td>\n      <td>['song']</td>\n      <td>-2.9524</td>\n      <td>38.2921</td>\n      <td>Turdus tephronotus</td>\n      <td>African Bare-eyed Thrush</td>\n      <td>James Bradley</td>\n      <td>Creative Commons Attribution-NonCommercial-Sha...</td>\n      <td>5.0</td>\n      <td>https://www.xeno-canto.org/363503</td>\n      <td>abethr1/XC363503.ogg</td>\n    </tr>\n    <tr>\n      <th>4</th>\n      <td>abethr1</td>\n      <td>[]</td>\n      <td>['call', 'song']</td>\n      <td>-2.9524</td>\n      <td>38.2921</td>\n      <td>Turdus tephronotus</td>\n      <td>African Bare-eyed Thrush</td>\n      <td>James Bradley</td>\n      <td>Creative Commons Attribution-NonCommercial-Sha...</td>\n      <td>4.5</td>\n      <td>https://www.xeno-canto.org/363504</td>\n      <td>abethr1/XC363504.ogg</td>\n    </tr>\n  </tbody>\n</table>\n</div>"
     },
     "execution_count": 4,
     "metadata": {},
     "output_type": "execute_result"
    }
   ],
   "source": [
    "train_metadata.head()"
   ],
   "metadata": {
    "collapsed": false,
    "ExecuteTime": {
     "end_time": "2023-05-31T18:24:28.566073876Z",
     "start_time": "2023-05-31T18:24:28.559079610Z"
    }
   }
  },
  {
   "cell_type": "code",
   "execution_count": 5,
   "outputs": [],
   "source": [
    "encoder = LabelEncoder()\n",
    "all_labels = sorted(train_metadata['primary_label'].values)\n",
    "encoder.fit(all_labels)\n",
    "\n",
    "train_metadata[\"primary_label\"] = encoder.fit_transform(train_metadata[\"primary_label\"])"
   ],
   "metadata": {
    "collapsed": false,
    "ExecuteTime": {
     "end_time": "2023-05-31T18:24:28.574468450Z",
     "start_time": "2023-05-31T18:24:28.566690879Z"
    }
   }
  },
  {
   "cell_type": "code",
   "execution_count": 6,
   "outputs": [
    {
     "name": "stderr",
     "output_type": "stream",
     "text": [
      "/home/siddh/anaconda3/envs/birdclef/lib/python3.9/site-packages/sklearn/model_selection/_split.py:700: UserWarning: The least populated class in y has only 1 members, which is less than n_splits=5.\n",
      "  warnings.warn(\n"
     ]
    }
   ],
   "source": [
    "stratified_kfold = StratifiedKFold(n_splits=CONFIG[\"N_FOLDS\"])\n",
    "\n",
    "for fold, (train, valid) in enumerate(stratified_kfold.split(X=train_metadata, y=train_metadata[\"primary_label\"])):\n",
    "    train_metadata.loc[valid, \"kfold\"] = fold"
   ],
   "metadata": {
    "collapsed": false,
    "ExecuteTime": {
     "end_time": "2023-05-31T18:24:28.608197317Z",
     "start_time": "2023-05-31T18:24:28.575124399Z"
    }
   }
  },
  {
   "cell_type": "code",
   "execution_count": 7,
   "outputs": [
    {
     "data": {
      "text/plain": "       primary_label secondary_labels              type  latitude  longitude  \\\n0                  0               []          ['song']    4.3906    38.2788   \n1                  0               []          ['call']   -2.9524    38.2921   \n2                  0               []          ['song']   -2.9524    38.2921   \n3                  0               []          ['song']   -2.9524    38.2921   \n4                  0               []  ['call', 'song']   -2.9524    38.2921   \n...              ...              ...               ...       ...        ...   \n16936            263               []              ['']   -1.2502    29.7971   \n16937            263               []              ['']   -1.2489    29.7923   \n16938            263               []              ['']   -1.2433    29.7844   \n16939            263               []              ['']    0.0452    36.3699   \n16940            263               []              ['']   -0.3986    37.3087   \n\n            scientific_name                common_name          author  \\\n0        Turdus tephronotus   African Bare-eyed Thrush   Rolf A. de By   \n1        Turdus tephronotus   African Bare-eyed Thrush   James Bradley   \n2        Turdus tephronotus   African Bare-eyed Thrush   James Bradley   \n3        Turdus tephronotus   African Bare-eyed Thrush   James Bradley   \n4        Turdus tephronotus   African Bare-eyed Thrush   James Bradley   \n...                     ...                        ...             ...   \n16936  Eurillas latirostris  Yellow-whiskered Greenbul  András Schmidt   \n16937  Eurillas latirostris  Yellow-whiskered Greenbul  András Schmidt   \n16938  Eurillas latirostris  Yellow-whiskered Greenbul  András Schmidt   \n16939  Eurillas latirostris  Yellow-whiskered Greenbul   Lars Lachmann   \n16940  Eurillas latirostris  Yellow-whiskered Greenbul   Lars Lachmann   \n\n                                                 license  rating  \\\n0      Creative Commons Attribution-NonCommercial-Sha...     4.0   \n1      Creative Commons Attribution-NonCommercial-Sha...     3.5   \n2      Creative Commons Attribution-NonCommercial-Sha...     3.5   \n3      Creative Commons Attribution-NonCommercial-Sha...     5.0   \n4      Creative Commons Attribution-NonCommercial-Sha...     4.5   \n...                                                  ...     ...   \n16936  Creative Commons Attribution-NonCommercial-Sha...     3.0   \n16937  Creative Commons Attribution-NonCommercial-Sha...     4.0   \n16938  Creative Commons Attribution-NonCommercial-Sha...     4.0   \n16939  Creative Commons Attribution-NonCommercial-Sha...     4.0   \n16940  Creative Commons Attribution-NonCommercial-Sha...     4.5   \n\n                                     url              filename  kfold  \n0      https://www.xeno-canto.org/128013  abethr1/XC128013.ogg    0.0  \n1      https://www.xeno-canto.org/363501  abethr1/XC363501.ogg    0.0  \n2      https://www.xeno-canto.org/363502  abethr1/XC363502.ogg    0.0  \n3      https://www.xeno-canto.org/363503  abethr1/XC363503.ogg    1.0  \n4      https://www.xeno-canto.org/363504  abethr1/XC363504.ogg    1.0  \n...                                  ...                   ...    ...  \n16936      https://xeno-canto.org/703472  yewgre1/XC703472.ogg    4.0  \n16937      https://xeno-canto.org/703485  yewgre1/XC703485.ogg    4.0  \n16938      https://xeno-canto.org/704433  yewgre1/XC704433.ogg    4.0  \n16939      https://xeno-canto.org/752974  yewgre1/XC752974.ogg    4.0  \n16940      https://xeno-canto.org/753190  yewgre1/XC753190.ogg    4.0  \n\n[16941 rows x 13 columns]",
      "text/html": "<div>\n<style scoped>\n    .dataframe tbody tr th:only-of-type {\n        vertical-align: middle;\n    }\n\n    .dataframe tbody tr th {\n        vertical-align: top;\n    }\n\n    .dataframe thead th {\n        text-align: right;\n    }\n</style>\n<table border=\"1\" class=\"dataframe\">\n  <thead>\n    <tr style=\"text-align: right;\">\n      <th></th>\n      <th>primary_label</th>\n      <th>secondary_labels</th>\n      <th>type</th>\n      <th>latitude</th>\n      <th>longitude</th>\n      <th>scientific_name</th>\n      <th>common_name</th>\n      <th>author</th>\n      <th>license</th>\n      <th>rating</th>\n      <th>url</th>\n      <th>filename</th>\n      <th>kfold</th>\n    </tr>\n  </thead>\n  <tbody>\n    <tr>\n      <th>0</th>\n      <td>0</td>\n      <td>[]</td>\n      <td>['song']</td>\n      <td>4.3906</td>\n      <td>38.2788</td>\n      <td>Turdus tephronotus</td>\n      <td>African Bare-eyed Thrush</td>\n      <td>Rolf A. de By</td>\n      <td>Creative Commons Attribution-NonCommercial-Sha...</td>\n      <td>4.0</td>\n      <td>https://www.xeno-canto.org/128013</td>\n      <td>abethr1/XC128013.ogg</td>\n      <td>0.0</td>\n    </tr>\n    <tr>\n      <th>1</th>\n      <td>0</td>\n      <td>[]</td>\n      <td>['call']</td>\n      <td>-2.9524</td>\n      <td>38.2921</td>\n      <td>Turdus tephronotus</td>\n      <td>African Bare-eyed Thrush</td>\n      <td>James Bradley</td>\n      <td>Creative Commons Attribution-NonCommercial-Sha...</td>\n      <td>3.5</td>\n      <td>https://www.xeno-canto.org/363501</td>\n      <td>abethr1/XC363501.ogg</td>\n      <td>0.0</td>\n    </tr>\n    <tr>\n      <th>2</th>\n      <td>0</td>\n      <td>[]</td>\n      <td>['song']</td>\n      <td>-2.9524</td>\n      <td>38.2921</td>\n      <td>Turdus tephronotus</td>\n      <td>African Bare-eyed Thrush</td>\n      <td>James Bradley</td>\n      <td>Creative Commons Attribution-NonCommercial-Sha...</td>\n      <td>3.5</td>\n      <td>https://www.xeno-canto.org/363502</td>\n      <td>abethr1/XC363502.ogg</td>\n      <td>0.0</td>\n    </tr>\n    <tr>\n      <th>3</th>\n      <td>0</td>\n      <td>[]</td>\n      <td>['song']</td>\n      <td>-2.9524</td>\n      <td>38.2921</td>\n      <td>Turdus tephronotus</td>\n      <td>African Bare-eyed Thrush</td>\n      <td>James Bradley</td>\n      <td>Creative Commons Attribution-NonCommercial-Sha...</td>\n      <td>5.0</td>\n      <td>https://www.xeno-canto.org/363503</td>\n      <td>abethr1/XC363503.ogg</td>\n      <td>1.0</td>\n    </tr>\n    <tr>\n      <th>4</th>\n      <td>0</td>\n      <td>[]</td>\n      <td>['call', 'song']</td>\n      <td>-2.9524</td>\n      <td>38.2921</td>\n      <td>Turdus tephronotus</td>\n      <td>African Bare-eyed Thrush</td>\n      <td>James Bradley</td>\n      <td>Creative Commons Attribution-NonCommercial-Sha...</td>\n      <td>4.5</td>\n      <td>https://www.xeno-canto.org/363504</td>\n      <td>abethr1/XC363504.ogg</td>\n      <td>1.0</td>\n    </tr>\n    <tr>\n      <th>...</th>\n      <td>...</td>\n      <td>...</td>\n      <td>...</td>\n      <td>...</td>\n      <td>...</td>\n      <td>...</td>\n      <td>...</td>\n      <td>...</td>\n      <td>...</td>\n      <td>...</td>\n      <td>...</td>\n      <td>...</td>\n      <td>...</td>\n    </tr>\n    <tr>\n      <th>16936</th>\n      <td>263</td>\n      <td>[]</td>\n      <td>['']</td>\n      <td>-1.2502</td>\n      <td>29.7971</td>\n      <td>Eurillas latirostris</td>\n      <td>Yellow-whiskered Greenbul</td>\n      <td>András Schmidt</td>\n      <td>Creative Commons Attribution-NonCommercial-Sha...</td>\n      <td>3.0</td>\n      <td>https://xeno-canto.org/703472</td>\n      <td>yewgre1/XC703472.ogg</td>\n      <td>4.0</td>\n    </tr>\n    <tr>\n      <th>16937</th>\n      <td>263</td>\n      <td>[]</td>\n      <td>['']</td>\n      <td>-1.2489</td>\n      <td>29.7923</td>\n      <td>Eurillas latirostris</td>\n      <td>Yellow-whiskered Greenbul</td>\n      <td>András Schmidt</td>\n      <td>Creative Commons Attribution-NonCommercial-Sha...</td>\n      <td>4.0</td>\n      <td>https://xeno-canto.org/703485</td>\n      <td>yewgre1/XC703485.ogg</td>\n      <td>4.0</td>\n    </tr>\n    <tr>\n      <th>16938</th>\n      <td>263</td>\n      <td>[]</td>\n      <td>['']</td>\n      <td>-1.2433</td>\n      <td>29.7844</td>\n      <td>Eurillas latirostris</td>\n      <td>Yellow-whiskered Greenbul</td>\n      <td>András Schmidt</td>\n      <td>Creative Commons Attribution-NonCommercial-Sha...</td>\n      <td>4.0</td>\n      <td>https://xeno-canto.org/704433</td>\n      <td>yewgre1/XC704433.ogg</td>\n      <td>4.0</td>\n    </tr>\n    <tr>\n      <th>16939</th>\n      <td>263</td>\n      <td>[]</td>\n      <td>['']</td>\n      <td>0.0452</td>\n      <td>36.3699</td>\n      <td>Eurillas latirostris</td>\n      <td>Yellow-whiskered Greenbul</td>\n      <td>Lars Lachmann</td>\n      <td>Creative Commons Attribution-NonCommercial-Sha...</td>\n      <td>4.0</td>\n      <td>https://xeno-canto.org/752974</td>\n      <td>yewgre1/XC752974.ogg</td>\n      <td>4.0</td>\n    </tr>\n    <tr>\n      <th>16940</th>\n      <td>263</td>\n      <td>[]</td>\n      <td>['']</td>\n      <td>-0.3986</td>\n      <td>37.3087</td>\n      <td>Eurillas latirostris</td>\n      <td>Yellow-whiskered Greenbul</td>\n      <td>Lars Lachmann</td>\n      <td>Creative Commons Attribution-NonCommercial-Sha...</td>\n      <td>4.5</td>\n      <td>https://xeno-canto.org/753190</td>\n      <td>yewgre1/XC753190.ogg</td>\n      <td>4.0</td>\n    </tr>\n  </tbody>\n</table>\n<p>16941 rows × 13 columns</p>\n</div>"
     },
     "execution_count": 7,
     "metadata": {},
     "output_type": "execute_result"
    }
   ],
   "source": [
    "train_metadata"
   ],
   "metadata": {
    "collapsed": false,
    "ExecuteTime": {
     "end_time": "2023-05-31T18:24:28.659339586Z",
     "start_time": "2023-05-31T18:24:28.588722873Z"
    }
   }
  },
  {
   "cell_type": "markdown",
   "source": [
    "## Dataset"
   ],
   "metadata": {
    "collapsed": false
   }
  },
  {
   "cell_type": "code",
   "execution_count": 8,
   "outputs": [],
   "source": [
    "class BirdCLEFDataset(Dataset):\n",
    "    def __init__(self, df, sample_rate, duration, image_transforms=None):\n",
    "        self.audio_paths = df[\"filename\"].values\n",
    "        self.labels = df['primary_label'].values\n",
    "        self.sample_rate = sample_rate\n",
    "        self.duration = duration\n",
    "        self.num_samples = self.sample_rate * self.duration\n",
    "        self.image_transforms = image_transforms\n",
    "        self.mel_spectrogram = torchaudio.transforms.MelSpectrogram(\n",
    "            sample_rate=self.sample_rate,\n",
    "            n_fft=512,\n",
    "            n_mels=128\n",
    "        )\n",
    "\n",
    "    def __len__(self):\n",
    "        return len(self.audio_paths)\n",
    "\n",
    "    def __getitem__(self, idx):\n",
    "        audio_path = self.audio_paths[idx]\n",
    "        label = torch.tensor(self.labels[idx])\n",
    "\n",
    "        audio, sample_rate = torchaudio.load(os.path.join(CONFIG[\"TRAIN_DIR\"], audio_path))\n",
    "\n",
    "        audio = self.mono_audio(audio)\n",
    "        audio = self.resample(audio, sample_rate)\n",
    "\n",
    "        if audio.shape[0] > self.num_samples:\n",
    "            audio = self.crop_audio(audio)\n",
    "\n",
    "        if audio.shape[0] < self.num_samples:\n",
    "            audio = self.pad_audio(audio)\n",
    "\n",
    "        mel_spectrograms = self.mel_spectrogram(audio)\n",
    "        image = torch.stack([mel_spectrograms, mel_spectrograms, mel_spectrograms])\n",
    "        image = self.normalize(image)\n",
    "\n",
    "        return image, label\n",
    "\n",
    "    @staticmethod\n",
    "    def mono_audio(audio):\n",
    "        audio = torch.mean(audio, dim=0)\n",
    "        return audio\n",
    "\n",
    "    def resample(self, audio, sample_rate):\n",
    "        if sample_rate != self.sample_rate:\n",
    "            resampler = Resample(sample_rate, self.sample_rate)\n",
    "            audio = resampler(audio)\n",
    "        return audio\n",
    "\n",
    "    @staticmethod\n",
    "    def normalize(image):\n",
    "        max_val = torch.max(torch.abs(image))\n",
    "        if max_val > 0:\n",
    "            image = image / max_val\n",
    "        return image\n",
    "\n",
    "    def crop_audio(self, audio):\n",
    "        return audio[:self.num_samples]\n",
    "\n",
    "    def pad_audio(self, audio):\n",
    "        pad_length = self.num_samples - audio.shape[0]\n",
    "        last_dim_padding = (0, pad_length)\n",
    "        audio = nn.functional.pad(audio, last_dim_padding)\n",
    "        return audio"
   ],
   "metadata": {
    "collapsed": false,
    "ExecuteTime": {
     "end_time": "2023-05-31T18:24:28.659475707Z",
     "start_time": "2023-05-31T18:24:28.645457112Z"
    }
   }
  },
  {
   "cell_type": "markdown",
   "source": [
    "## GEM Pooling"
   ],
   "metadata": {
    "collapsed": false
   }
  },
  {
   "cell_type": "code",
   "execution_count": 9,
   "outputs": [],
   "source": [
    "class GeM(torch.nn.Module):\n",
    "    def __init__(self, p=3, eps=1e-6):\n",
    "        super(GeM, self).__init__()\n",
    "        self.p = torch.nn.Parameter(torch.ones(1) * p)\n",
    "        self.eps = eps\n",
    "\n",
    "    def forward(self, x):\n",
    "        return self.gem(x, p=self.p, eps=self.eps)\n",
    "\n",
    "    def gem(self, x, p=3, eps=1e-6):\n",
    "        return torch.nn.functional.avg_pool2d(x.clamp(min=eps).pow(p), (x.size(-2), x.size(-1))).pow(1. / p)\n",
    "\n",
    "    def __repr__(self):\n",
    "        return self.__class__.__name__ + \\\n",
    "            '(' + 'p=' + '{:.4f}'.format(self.p.data.tolist()[0]) + \\\n",
    "            ', ' + 'eps=' + str(self.eps) + ')'"
   ],
   "metadata": {
    "collapsed": false,
    "ExecuteTime": {
     "end_time": "2023-05-31T18:24:28.659511179Z",
     "start_time": "2023-05-31T18:24:28.645549713Z"
    }
   }
  },
  {
   "cell_type": "markdown",
   "source": [
    "## Model"
   ],
   "metadata": {
    "collapsed": false
   }
  },
  {
   "cell_type": "code",
   "execution_count": 10,
   "outputs": [],
   "source": [
    "class BirdCLEFModel(nn.Module):\n",
    "    def __init__(self, embedding_size, model_name, pretrained=True):\n",
    "        super(BirdCLEFModel, self).__init__()\n",
    "        self.model = timm.create_model(model_name, pretrained=pretrained)\n",
    "        self.in_features = self.model.classifier.in_features\n",
    "        self.model.classifier = nn.Identity()\n",
    "        self.model.global_pool = nn.Identity()\n",
    "        self.pooling = GeM()\n",
    "        self.embedding = nn.Linear(self.in_features, embedding_size)\n",
    "        self.fc = nn.Linear(embedding_size, CONFIG[\"NUM_CLASSES\"])\n",
    "\n",
    "    def forward(self, image):\n",
    "        features = self.model(image)\n",
    "        pooled_features = self.pooling(features).flatten(1)\n",
    "        embedding = self.embedding(pooled_features)\n",
    "        output = self.fc(embedding)\n",
    "        return output"
   ],
   "metadata": {
    "collapsed": false,
    "ExecuteTime": {
     "end_time": "2023-05-31T18:24:28.700990772Z",
     "start_time": "2023-05-31T18:24:28.645584180Z"
    }
   }
  },
  {
   "cell_type": "code",
   "execution_count": 11,
   "outputs": [
    {
     "name": "stderr",
     "output_type": "stream",
     "text": [
      "/home/siddh/anaconda3/envs/birdclef/lib/python3.9/site-packages/timm/models/_factory.py:114: UserWarning: Mapping deprecated model name tf_efficientnet_b4_ns to current tf_efficientnet_b4.ns_jft_in1k.\n",
      "  model = create_fn(\n"
     ]
    }
   ],
   "source": [
    "model = BirdCLEFModel(embedding_size=CONFIG[\"EMBEDDING_SIZE\"], model_name=CONFIG[\"MODEL_NAME\"])\n",
    "model.to(CONFIG[\"DEVICE\"]);"
   ],
   "metadata": {
    "collapsed": false,
    "ExecuteTime": {
     "end_time": "2023-05-31T18:24:30.474664791Z",
     "start_time": "2023-05-31T18:24:28.689464834Z"
    }
   }
  },
  {
   "cell_type": "markdown",
   "source": [
    "## Training"
   ],
   "metadata": {
    "collapsed": false
   }
  },
  {
   "cell_type": "code",
   "execution_count": 12,
   "outputs": [],
   "source": [
    "def criterion(outputs, targets):\n",
    "    return nn.CrossEntropyLoss()(outputs, targets)"
   ],
   "metadata": {
    "collapsed": false,
    "ExecuteTime": {
     "end_time": "2023-05-31T18:24:30.517456105Z",
     "start_time": "2023-05-31T18:24:30.476170626Z"
    }
   }
  },
  {
   "cell_type": "code",
   "execution_count": 13,
   "outputs": [],
   "source": [
    "def train_one_epoch(model, optimizer, scheduler, dataloader, device, epoch):\n",
    "    model.train()\n",
    "\n",
    "    running_loss = 0.0\n",
    "\n",
    "    bar = tqdm(dataloader, position=0)\n",
    "    for idx, (image, label) in enumerate(bar):\n",
    "        image = image.to(device)\n",
    "        label = label.to(device)\n",
    "\n",
    "        outputs = model(image)\n",
    "        _, preds = torch.max(outputs, 1)\n",
    "\n",
    "        loss = criterion(outputs, label)\n",
    "\n",
    "        loss.backward()\n",
    "\n",
    "        optimizer.step()\n",
    "        optimizer.zero_grad()\n",
    "\n",
    "        scheduler.step()\n",
    "\n",
    "        running_loss += (loss.item())\n",
    "\n",
    "        bar.set_description(f'Epoch [{epoch+1}/{CONFIG[\"NUM_EPOCHS\"]}]')\n",
    "        bar.set_postfix(loss=loss.item())\n",
    "\n",
    "    gc.collect()\n",
    "\n",
    "    return running_loss / len(dataloader)"
   ],
   "metadata": {
    "collapsed": false,
    "ExecuteTime": {
     "end_time": "2023-05-31T18:24:30.518842018Z",
     "start_time": "2023-05-31T18:24:30.517700002Z"
    }
   }
  },
  {
   "cell_type": "code",
   "execution_count": 14,
   "outputs": [],
   "source": [
    "@torch.inference_mode()\n",
    "def valid_one_epoch(model, dataloader, device, epoch):\n",
    "    model.eval()\n",
    "\n",
    "    running_loss = 0\n",
    "\n",
    "    LABELS = []\n",
    "    PREDS = []\n",
    "\n",
    "    bar = tqdm(dataloader, position=0)\n",
    "    for images, labels in bar:\n",
    "        images = images.to(device)\n",
    "        labels = labels.to(device)\n",
    "\n",
    "        outputs = model(images)\n",
    "        _, preds = torch.max(outputs, 1)\n",
    "\n",
    "        loss = criterion(outputs, labels)\n",
    "\n",
    "        running_loss += loss.item()\n",
    "\n",
    "        PREDS.extend(preds.view(-1).cpu().detach().numpy())\n",
    "        LABELS.extend(labels.view(-1).cpu().detach().numpy())\n",
    "\n",
    "        bar.set_description(f'Epoch [{epoch+1}/{CONFIG[\"NUM_EPOCHS\"]}]')\n",
    "        bar.set_postfix(loss=loss.item())\n",
    "\n",
    "    valid_f1 = f1_score(LABELS, PREDS, average='macro')\n",
    "\n",
    "    return running_loss/len(dataloader), valid_f1"
   ],
   "metadata": {
    "collapsed": false,
    "ExecuteTime": {
     "end_time": "2023-05-31T18:24:30.518956275Z",
     "start_time": "2023-05-31T18:24:30.517797936Z"
    }
   }
  },
  {
   "cell_type": "code",
   "execution_count": 15,
   "outputs": [],
   "source": [
    "def prepare_loaders(df, fold):\n",
    "    df_train = df[df.kfold != fold].reset_index(drop=True)\n",
    "    df_valid = df[df.kfold == fold].reset_index(drop=True)\n",
    "\n",
    "    train_dataset = BirdCLEFDataset(df_train, sample_rate=CONFIG[\"SAMPLE_RATE\"], duration=CONFIG[\"DURATION\"])\n",
    "    valid_dataset = BirdCLEFDataset(df_valid, sample_rate=CONFIG[\"SAMPLE_RATE\"], duration=CONFIG[\"DURATION\"])\n",
    "\n",
    "    train_loader = DataLoader(train_dataset, batch_size=CONFIG[\"TRAIN_BATCH_SIZE\"],\n",
    "                              num_workers=2, shuffle=True, pin_memory=True, drop_last=True)\n",
    "    valid_loader = DataLoader(valid_dataset, batch_size=CONFIG[\"VALID_BATCH_SIZE\"],\n",
    "                              num_workers=2, shuffle=False, pin_memory=True)\n",
    "\n",
    "    return train_loader, valid_loader"
   ],
   "metadata": {
    "collapsed": false,
    "ExecuteTime": {
     "end_time": "2023-05-31T18:24:30.519014782Z",
     "start_time": "2023-05-31T18:24:30.517830106Z"
    }
   }
  },
  {
   "cell_type": "code",
   "execution_count": 16,
   "outputs": [
    {
     "name": "stderr",
     "output_type": "stream",
     "text": [
      "/home/siddh/anaconda3/envs/birdclef/lib/python3.9/site-packages/torchaudio/functional/functional.py:576: UserWarning: At least one mel filterbank has all zero values. The value for `n_mels` (128) may be set too high. Or, the value for `n_freqs` (257) may be set too low.\n",
      "  warnings.warn(\n"
     ]
    }
   ],
   "source": [
    "train_loader, valid_loader = prepare_loaders(train_metadata, fold=0)"
   ],
   "metadata": {
    "collapsed": false,
    "ExecuteTime": {
     "end_time": "2023-05-31T18:24:30.561663577Z",
     "start_time": "2023-05-31T18:24:30.517862559Z"
    }
   }
  },
  {
   "cell_type": "code",
   "execution_count": 17,
   "outputs": [],
   "source": [
    "optimizer = optim.Adam(model.parameters(), lr=CONFIG[\"LEARNING_RATE\"],\n",
    "                       weight_decay=CONFIG[\"WEIGHT_DECAY\"])"
   ],
   "metadata": {
    "collapsed": false,
    "ExecuteTime": {
     "end_time": "2023-05-31T18:24:30.561792265Z",
     "start_time": "2023-05-31T18:24:30.561561673Z"
    }
   }
  },
  {
   "cell_type": "code",
   "execution_count": 18,
   "outputs": [],
   "source": [
    "scheduler = optim.lr_scheduler.CosineAnnealingLR(optimizer, T_max=10)"
   ],
   "metadata": {
    "collapsed": false,
    "ExecuteTime": {
     "end_time": "2023-05-31T18:24:30.561855212Z",
     "start_time": "2023-05-31T18:24:30.561753753Z"
    }
   }
  },
  {
   "cell_type": "code",
   "execution_count": 19,
   "outputs": [
    {
     "name": "stderr",
     "output_type": "stream",
     "text": [
      "Epoch [1/10]: 100%|██████████| 847/847 [03:56<00:00,  3.58it/s, loss=2.27]\n",
      "Epoch [1/10]: 100%|██████████| 212/212 [00:56<00:00,  3.72it/s, loss=4.47] \n"
     ]
    },
    {
     "name": "stdout",
     "output_type": "stream",
     "text": [
      "Validation F1 Improved - 0 ---> 0.052026190043652505\n",
      "Saved model checkpoint at ./model_0.bin\n"
     ]
    },
    {
     "name": "stderr",
     "output_type": "stream",
     "text": [
      "Epoch [2/10]: 100%|██████████| 847/847 [04:12<00:00,  3.36it/s, loss=3.84]\n",
      "Epoch [2/10]: 100%|██████████| 212/212 [00:57<00:00,  3.67it/s, loss=1.93]  \n"
     ]
    },
    {
     "name": "stdout",
     "output_type": "stream",
     "text": [
      "Validation F1 Improved - 0.052026190043652505 ---> 0.12624179538717217\n",
      "Saved model checkpoint at ./model_0.bin\n"
     ]
    },
    {
     "name": "stderr",
     "output_type": "stream",
     "text": [
      "Epoch [3/10]: 100%|██████████| 847/847 [04:15<00:00,  3.32it/s, loss=2.1]  \n",
      "Epoch [3/10]: 100%|██████████| 212/212 [01:00<00:00,  3.51it/s, loss=2.05]  \n"
     ]
    },
    {
     "name": "stdout",
     "output_type": "stream",
     "text": [
      "Validation F1 Improved - 0.12624179538717217 ---> 0.20213310865110704\n",
      "Saved model checkpoint at ./model_0.bin\n"
     ]
    },
    {
     "name": "stderr",
     "output_type": "stream",
     "text": [
      "Epoch [4/10]: 100%|██████████| 847/847 [04:13<00:00,  3.35it/s, loss=2.06] \n",
      "Epoch [4/10]: 100%|██████████| 212/212 [00:54<00:00,  3.87it/s, loss=2.1]   \n"
     ]
    },
    {
     "name": "stdout",
     "output_type": "stream",
     "text": [
      "Validation F1 Improved - 0.20213310865110704 ---> 0.23084842906897984\n",
      "Saved model checkpoint at ./model_0.bin\n"
     ]
    },
    {
     "name": "stderr",
     "output_type": "stream",
     "text": [
      "Epoch [5/10]: 100%|██████████| 847/847 [04:14<00:00,  3.32it/s, loss=1.37] \n",
      "Epoch [5/10]: 100%|██████████| 212/212 [00:58<00:00,  3.64it/s, loss=1.7]    \n"
     ]
    },
    {
     "name": "stdout",
     "output_type": "stream",
     "text": [
      "Validation F1 Improved - 0.23084842906897984 ---> 0.272302951451076\n",
      "Saved model checkpoint at ./model_0.bin\n"
     ]
    },
    {
     "name": "stderr",
     "output_type": "stream",
     "text": [
      "Epoch [6/10]: 100%|██████████| 847/847 [04:14<00:00,  3.33it/s, loss=1.12] \n",
      "Epoch [6/10]: 100%|██████████| 212/212 [00:58<00:00,  3.65it/s, loss=3.78]  \n",
      "Epoch [7/10]: 100%|██████████| 847/847 [04:13<00:00,  3.34it/s, loss=1.61]  \n",
      "Epoch [7/10]: 100%|██████████| 212/212 [00:57<00:00,  3.69it/s, loss=2.85]   \n"
     ]
    },
    {
     "name": "stdout",
     "output_type": "stream",
     "text": [
      "Validation F1 Improved - 0.272302951451076 ---> 0.28619918243486697\n",
      "Saved model checkpoint at ./model_0.bin\n"
     ]
    },
    {
     "name": "stderr",
     "output_type": "stream",
     "text": [
      "Epoch [8/10]: 100%|██████████| 847/847 [04:10<00:00,  3.38it/s, loss=1.01]  \n",
      "Epoch [8/10]: 100%|██████████| 212/212 [00:55<00:00,  3.84it/s, loss=2.59] \n",
      "Epoch [9/10]: 100%|██████████| 847/847 [04:16<00:00,  3.30it/s, loss=0.367] \n",
      "Epoch [9/10]: 100%|██████████| 212/212 [00:56<00:00,  3.72it/s, loss=3.71]  \n"
     ]
    },
    {
     "name": "stdout",
     "output_type": "stream",
     "text": [
      "Validation F1 Improved - 0.28619918243486697 ---> 0.3104315388381563\n",
      "Saved model checkpoint at ./model_0.bin\n"
     ]
    },
    {
     "name": "stderr",
     "output_type": "stream",
     "text": [
      "Epoch [10/10]: 100%|██████████| 847/847 [04:11<00:00,  3.37it/s, loss=0.351] \n",
      "Epoch [10/10]: 100%|██████████| 212/212 [00:55<00:00,  3.80it/s, loss=2.56] \n"
     ]
    }
   ],
   "source": [
    "best_valid_f1 = 0\n",
    "for epoch in range(CONFIG[\"NUM_EPOCHS\"]):\n",
    "    train_loss = train_one_epoch(model, optimizer, scheduler, train_loader, CONFIG[\"DEVICE\"], epoch)\n",
    "    valid_loss, valid_f1 = valid_one_epoch(model, valid_loader, CONFIG[\"DEVICE\"], epoch)\n",
    "    if valid_f1 > best_valid_f1:\n",
    "        print(f\"Validation F1 Improved - {best_valid_f1} ---> {valid_f1}\")\n",
    "        torch.save(model.state_dict(), f'.models/model_0.bin')\n",
    "        print(f\"Saved model checkpoint at .models/model_0.bin\")\n",
    "        best_valid_f1 = valid_f1"
   ],
   "metadata": {
    "collapsed": false,
    "ExecuteTime": {
     "end_time": "2023-05-31T19:16:04.368456499Z",
     "start_time": "2023-05-31T18:24:30.561829382Z"
    }
   }
  },
  {
   "cell_type": "code",
   "execution_count": 20,
   "outputs": [
    {
     "name": "stdout",
     "output_type": "stream",
     "text": [
      "0.3104315388381563\n"
     ]
    }
   ],
   "source": [
    "print(best_valid_f1)"
   ],
   "metadata": {
    "collapsed": false,
    "ExecuteTime": {
     "end_time": "2023-05-31T19:16:04.372784162Z",
     "start_time": "2023-05-31T19:16:04.370819528Z"
    }
   }
  },
  {
   "cell_type": "code",
   "execution_count": 20,
   "outputs": [],
   "source": [],
   "metadata": {
    "collapsed": false,
    "ExecuteTime": {
     "end_time": "2023-05-31T19:16:04.374574169Z",
     "start_time": "2023-05-31T19:16:04.372911667Z"
    }
   }
  }
 ],
 "metadata": {
  "kernelspec": {
   "display_name": "Python 3",
   "language": "python",
   "name": "python3"
  },
  "language_info": {
   "codemirror_mode": {
    "name": "ipython",
    "version": 2
   },
   "file_extension": ".py",
   "mimetype": "text/x-python",
   "name": "python",
   "nbconvert_exporter": "python",
   "pygments_lexer": "ipython2",
   "version": "2.7.6"
  }
 },
 "nbformat": 4,
 "nbformat_minor": 0
}
